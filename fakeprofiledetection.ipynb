{
  "nbformat": 4,
  "nbformat_minor": 0,
  "metadata": {
    "colab": {
      "name": "fakeprofiledetection.ipynb",
      "provenance": [],
      "collapsed_sections": [],
      "authorship_tag": "ABX9TyNkXcscYh1M+PNIOEQ+8YLF",
      "include_colab_link": true
    },
    "kernelspec": {
      "name": "python3",
      "display_name": "Python 3"
    }
  },
  "cells": [
    {
      "cell_type": "markdown",
      "metadata": {
        "id": "view-in-github",
        "colab_type": "text"
      },
      "source": [
        "<a href=\"https://colab.research.google.com/github/deepsree24/Fake-User-Profile-Detection/blob/master/fakeprofiledetection.ipynb\" target=\"_parent\"><img src=\"https://colab.research.google.com/assets/colab-badge.svg\" alt=\"Open In Colab\"/></a>"
      ]
    },
    {
      "cell_type": "code",
      "metadata": {
        "id": "HUoKJGqcQi-D",
        "colab_type": "code",
        "colab": {}
      },
      "source": [
        "import numpy as np\n",
        "import pandas as pd\n",
        "import matplotlib.pyplot as plt\n",
        "import pandas_profiling as pp\n",
        "import keras as k\n"
      ],
      "execution_count": null,
      "outputs": []
    },
    {
      "cell_type": "code",
      "metadata": {
        "id": "VoK2ydOETMEp",
        "colab_type": "code",
        "colab": {}
      },
      "source": [
        "from sklearn.model_selection import train_test_split"
      ],
      "execution_count": null,
      "outputs": []
    },
    {
      "cell_type": "code",
      "metadata": {
        "id": "yTRDkDSKqfsF",
        "colab_type": "code",
        "colab": {}
      },
      "source": [
        "df_users = pd.read_csv(\"/content/users.csv\")\n",
        "df_fusers = pd.read_csv(\"/content/fusers.csv\")"
      ],
      "execution_count": null,
      "outputs": []
    },
    {
      "cell_type": "code",
      "metadata": {
        "id": "ILnFYIHsBvN6",
        "colab_type": "code",
        "colab": {
          "base_uri": "https://localhost:8080/",
          "height": 35
        },
        "outputId": "6e161401-519b-4d5b-90c3-6fcdabd0c742"
      },
      "source": [
        "df_fusers.shape"
      ],
      "execution_count": null,
      "outputs": [
        {
          "output_type": "execute_result",
          "data": {
            "text/plain": [
              "(1337, 34)"
            ]
          },
          "metadata": {
            "tags": []
          },
          "execution_count": 61
        }
      ]
    },
    {
      "cell_type": "code",
      "metadata": {
        "id": "G-XPy_whBx9b",
        "colab_type": "code",
        "colab": {
          "base_uri": "https://localhost:8080/",
          "height": 35
        },
        "outputId": "acc2ec7f-9448-42c7-f031-56a5e6c37441"
      },
      "source": [
        "df_users.shape"
      ],
      "execution_count": null,
      "outputs": [
        {
          "output_type": "execute_result",
          "data": {
            "text/plain": [
              "(1481, 34)"
            ]
          },
          "metadata": {
            "tags": []
          },
          "execution_count": 62
        }
      ]
    },
    {
      "cell_type": "code",
      "metadata": {
        "id": "1L9cV9arB9HS",
        "colab_type": "code",
        "colab": {}
      },
      "source": [
        "#for df_fusers\n",
        "isFake = np.zeros(1337)\n",
        "\n",
        "#for df_users\n",
        "isNotFake = np.ones(1481)"
      ],
      "execution_count": null,
      "outputs": []
    },
    {
      "cell_type": "code",
      "metadata": {
        "id": "Zmk7KAEDCEgl",
        "colab_type": "code",
        "colab": {}
      },
      "source": [
        "df_fusers[\"isFake\"] = isFake\n",
        "df_users[\"isFake\"] = isNotFake"
      ],
      "execution_count": null,
      "outputs": []
    },
    {
      "cell_type": "code",
      "metadata": {
        "id": "3n7LUIuRCPNq",
        "colab_type": "code",
        "colab": {}
      },
      "source": [
        "df_allUsers = pd.concat([df_fusers, df_users], ignore_index=True)\n",
        "df_allUsers.columns = df_allUsers.columns.str.strip()"
      ],
      "execution_count": null,
      "outputs": []
    },
    {
      "cell_type": "code",
      "metadata": {
        "id": "5Y5wo8DpCS-m",
        "colab_type": "code",
        "colab": {}
      },
      "source": [
        "df_allUsers = df_allUsers.sample(frac=1).reset_index(drop=True)"
      ],
      "execution_count": null,
      "outputs": []
    },
    {
      "cell_type": "code",
      "metadata": {
        "id": "CO7K9YekCVtu",
        "colab_type": "code",
        "colab": {
          "base_uri": "https://localhost:8080/",
          "height": 320
        },
        "outputId": "008a4e1d-d946-488e-f558-47487c9865f4"
      },
      "source": [
        "df_allUsers.describe()"
      ],
      "execution_count": null,
      "outputs": [
        {
          "output_type": "execute_result",
          "data": {
            "text/html": [
              "<div>\n",
              "<style scoped>\n",
              "    .dataframe tbody tr th:only-of-type {\n",
              "        vertical-align: middle;\n",
              "    }\n",
              "\n",
              "    .dataframe tbody tr th {\n",
              "        vertical-align: top;\n",
              "    }\n",
              "\n",
              "    .dataframe thead th {\n",
              "        text-align: right;\n",
              "    }\n",
              "</style>\n",
              "<table border=\"1\" class=\"dataframe\">\n",
              "  <thead>\n",
              "    <tr style=\"text-align: right;\">\n",
              "      <th></th>\n",
              "      <th>id</th>\n",
              "      <th>statuses_count</th>\n",
              "      <th>followers_count</th>\n",
              "      <th>friends_count</th>\n",
              "      <th>favourites_count</th>\n",
              "      <th>listed_count</th>\n",
              "      <th>default_profile</th>\n",
              "      <th>default_profile_image</th>\n",
              "      <th>geo_enabled</th>\n",
              "      <th>profile_use_background_image</th>\n",
              "      <th>profile_background_tile</th>\n",
              "      <th>utc_offset</th>\n",
              "      <th>protected</th>\n",
              "      <th>verified</th>\n",
              "      <th>isFake</th>\n",
              "    </tr>\n",
              "  </thead>\n",
              "  <tbody>\n",
              "    <tr>\n",
              "      <th>count</th>\n",
              "      <td>2.818000e+03</td>\n",
              "      <td>2818.000000</td>\n",
              "      <td>2818.000000</td>\n",
              "      <td>2818.000000</td>\n",
              "      <td>2818.000000</td>\n",
              "      <td>2818.000000</td>\n",
              "      <td>1728.0</td>\n",
              "      <td>8.0</td>\n",
              "      <td>721.0</td>\n",
              "      <td>2760.0</td>\n",
              "      <td>489.0</td>\n",
              "      <td>1069.000000</td>\n",
              "      <td>0.0</td>\n",
              "      <td>0.0</td>\n",
              "      <td>2818.000000</td>\n",
              "    </tr>\n",
              "    <tr>\n",
              "      <th>mean</th>\n",
              "      <td>5.374889e+08</td>\n",
              "      <td>1672.198368</td>\n",
              "      <td>371.105039</td>\n",
              "      <td>395.363023</td>\n",
              "      <td>234.541164</td>\n",
              "      <td>2.818666</td>\n",
              "      <td>1.0</td>\n",
              "      <td>1.0</td>\n",
              "      <td>1.0</td>\n",
              "      <td>1.0</td>\n",
              "      <td>1.0</td>\n",
              "      <td>1478.391020</td>\n",
              "      <td>NaN</td>\n",
              "      <td>NaN</td>\n",
              "      <td>0.525550</td>\n",
              "    </tr>\n",
              "    <tr>\n",
              "      <th>std</th>\n",
              "      <td>2.977005e+08</td>\n",
              "      <td>4884.669157</td>\n",
              "      <td>8022.631339</td>\n",
              "      <td>465.694322</td>\n",
              "      <td>1445.847248</td>\n",
              "      <td>23.480430</td>\n",
              "      <td>0.0</td>\n",
              "      <td>0.0</td>\n",
              "      <td>0.0</td>\n",
              "      <td>0.0</td>\n",
              "      <td>0.0</td>\n",
              "      <td>8108.211889</td>\n",
              "      <td>NaN</td>\n",
              "      <td>NaN</td>\n",
              "      <td>0.499435</td>\n",
              "    </tr>\n",
              "    <tr>\n",
              "      <th>min</th>\n",
              "      <td>3.610511e+06</td>\n",
              "      <td>0.000000</td>\n",
              "      <td>0.000000</td>\n",
              "      <td>0.000000</td>\n",
              "      <td>0.000000</td>\n",
              "      <td>0.000000</td>\n",
              "      <td>1.0</td>\n",
              "      <td>1.0</td>\n",
              "      <td>1.0</td>\n",
              "      <td>1.0</td>\n",
              "      <td>1.0</td>\n",
              "      <td>-39600.000000</td>\n",
              "      <td>NaN</td>\n",
              "      <td>NaN</td>\n",
              "      <td>0.000000</td>\n",
              "    </tr>\n",
              "    <tr>\n",
              "      <th>25%</th>\n",
              "      <td>3.620867e+08</td>\n",
              "      <td>35.000000</td>\n",
              "      <td>17.000000</td>\n",
              "      <td>168.000000</td>\n",
              "      <td>0.000000</td>\n",
              "      <td>0.000000</td>\n",
              "      <td>1.0</td>\n",
              "      <td>1.0</td>\n",
              "      <td>1.0</td>\n",
              "      <td>1.0</td>\n",
              "      <td>1.0</td>\n",
              "      <td>3600.000000</td>\n",
              "      <td>NaN</td>\n",
              "      <td>NaN</td>\n",
              "      <td>0.000000</td>\n",
              "    </tr>\n",
              "    <tr>\n",
              "      <th>50%</th>\n",
              "      <td>6.162253e+08</td>\n",
              "      <td>77.000000</td>\n",
              "      <td>26.000000</td>\n",
              "      <td>306.000000</td>\n",
              "      <td>0.000000</td>\n",
              "      <td>0.000000</td>\n",
              "      <td>1.0</td>\n",
              "      <td>1.0</td>\n",
              "      <td>1.0</td>\n",
              "      <td>1.0</td>\n",
              "      <td>1.0</td>\n",
              "      <td>3600.000000</td>\n",
              "      <td>NaN</td>\n",
              "      <td>NaN</td>\n",
              "      <td>1.000000</td>\n",
              "    </tr>\n",
              "    <tr>\n",
              "      <th>75%</th>\n",
              "      <td>6.177673e+08</td>\n",
              "      <td>1087.750000</td>\n",
              "      <td>111.000000</td>\n",
              "      <td>519.000000</td>\n",
              "      <td>37.000000</td>\n",
              "      <td>1.000000</td>\n",
              "      <td>1.0</td>\n",
              "      <td>1.0</td>\n",
              "      <td>1.0</td>\n",
              "      <td>1.0</td>\n",
              "      <td>1.0</td>\n",
              "      <td>3600.000000</td>\n",
              "      <td>NaN</td>\n",
              "      <td>NaN</td>\n",
              "      <td>1.000000</td>\n",
              "    </tr>\n",
              "    <tr>\n",
              "      <th>max</th>\n",
              "      <td>1.391998e+09</td>\n",
              "      <td>79876.000000</td>\n",
              "      <td>408372.000000</td>\n",
              "      <td>12773.000000</td>\n",
              "      <td>44349.000000</td>\n",
              "      <td>744.000000</td>\n",
              "      <td>1.0</td>\n",
              "      <td>1.0</td>\n",
              "      <td>1.0</td>\n",
              "      <td>1.0</td>\n",
              "      <td>1.0</td>\n",
              "      <td>36000.000000</td>\n",
              "      <td>NaN</td>\n",
              "      <td>NaN</td>\n",
              "      <td>1.000000</td>\n",
              "    </tr>\n",
              "  </tbody>\n",
              "</table>\n",
              "</div>"
            ],
            "text/plain": [
              "                 id  statuses_count  ...  verified       isFake\n",
              "count  2.818000e+03     2818.000000  ...       0.0  2818.000000\n",
              "mean   5.374889e+08     1672.198368  ...       NaN     0.525550\n",
              "std    2.977005e+08     4884.669157  ...       NaN     0.499435\n",
              "min    3.610511e+06        0.000000  ...       NaN     0.000000\n",
              "25%    3.620867e+08       35.000000  ...       NaN     0.000000\n",
              "50%    6.162253e+08       77.000000  ...       NaN     1.000000\n",
              "75%    6.177673e+08     1087.750000  ...       NaN     1.000000\n",
              "max    1.391998e+09    79876.000000  ...       NaN     1.000000\n",
              "\n",
              "[8 rows x 15 columns]"
            ]
          },
          "metadata": {
            "tags": []
          },
          "execution_count": 70
        }
      ]
    },
    {
      "cell_type": "code",
      "metadata": {
        "id": "Icr1itPnCbYp",
        "colab_type": "code",
        "colab": {
          "base_uri": "https://localhost:8080/",
          "height": 556
        },
        "outputId": "93616c67-c289-4394-9e11-bc6295718033"
      },
      "source": [
        "df_allUsers.head()\n"
      ],
      "execution_count": null,
      "outputs": [
        {
          "output_type": "execute_result",
          "data": {
            "text/html": [
              "<div>\n",
              "<style scoped>\n",
              "    .dataframe tbody tr th:only-of-type {\n",
              "        vertical-align: middle;\n",
              "    }\n",
              "\n",
              "    .dataframe tbody tr th {\n",
              "        vertical-align: top;\n",
              "    }\n",
              "\n",
              "    .dataframe thead th {\n",
              "        text-align: right;\n",
              "    }\n",
              "</style>\n",
              "<table border=\"1\" class=\"dataframe\">\n",
              "  <thead>\n",
              "    <tr style=\"text-align: right;\">\n",
              "      <th></th>\n",
              "      <th>id</th>\n",
              "      <th>name</th>\n",
              "      <th>screen_name</th>\n",
              "      <th>statuses_count</th>\n",
              "      <th>followers_count</th>\n",
              "      <th>friends_count</th>\n",
              "      <th>favourites_count</th>\n",
              "      <th>listed_count</th>\n",
              "      <th>created_at</th>\n",
              "      <th>url</th>\n",
              "      <th>lang</th>\n",
              "      <th>time_zone</th>\n",
              "      <th>location</th>\n",
              "      <th>default_profile</th>\n",
              "      <th>default_profile_image</th>\n",
              "      <th>geo_enabled</th>\n",
              "      <th>profile_image_url</th>\n",
              "      <th>profile_banner_url</th>\n",
              "      <th>profile_use_background_image</th>\n",
              "      <th>profile_background_image_url_https</th>\n",
              "      <th>profile_text_color</th>\n",
              "      <th>profile_image_url_https</th>\n",
              "      <th>profile_sidebar_border_color</th>\n",
              "      <th>profile_background_tile</th>\n",
              "      <th>profile_sidebar_fill_color</th>\n",
              "      <th>profile_background_image_url</th>\n",
              "      <th>profile_background_color</th>\n",
              "      <th>profile_link_color</th>\n",
              "      <th>utc_offset</th>\n",
              "      <th>protected</th>\n",
              "      <th>verified</th>\n",
              "      <th>description</th>\n",
              "      <th>updated</th>\n",
              "      <th>dataset</th>\n",
              "      <th>isFake</th>\n",
              "    </tr>\n",
              "  </thead>\n",
              "  <tbody>\n",
              "    <tr>\n",
              "      <th>0</th>\n",
              "      <td>87654715</td>\n",
              "      <td>giampaolo galenda</td>\n",
              "      <td>p1qu3</td>\n",
              "      <td>299</td>\n",
              "      <td>29</td>\n",
              "      <td>28</td>\n",
              "      <td>3</td>\n",
              "      <td>0</td>\n",
              "      <td>Thu Nov 05 09:59:29 +0000 2009</td>\n",
              "      <td>http://totallyunnecessaryproductions.it</td>\n",
              "      <td>en</td>\n",
              "      <td>Rome</td>\n",
              "      <td>creative director</td>\n",
              "      <td>NaN</td>\n",
              "      <td>NaN</td>\n",
              "      <td>1.0</td>\n",
              "      <td>http://a0.twimg.com/profile_images/1901157677/...</td>\n",
              "      <td>https://si0.twimg.com/profile_banners/87654715...</td>\n",
              "      <td>1.0</td>\n",
              "      <td>https://si0.twimg.com/images/themes/theme5/bg.gif</td>\n",
              "      <td>3E4415</td>\n",
              "      <td>https://si0.twimg.com/profile_images/190115767...</td>\n",
              "      <td>829D5E</td>\n",
              "      <td>NaN</td>\n",
              "      <td>99CC33</td>\n",
              "      <td>http://a0.twimg.com/images/themes/theme5/bg.gif</td>\n",
              "      <td>352726</td>\n",
              "      <td>D02B55</td>\n",
              "      <td>3600.0</td>\n",
              "      <td>NaN</td>\n",
              "      <td>NaN</td>\n",
              "      <td>Creativity is allowing yourself to make mistak...</td>\n",
              "      <td>2015-02-14 10:54:49</td>\n",
              "      <td>E13</td>\n",
              "      <td>1.0</td>\n",
              "    </tr>\n",
              "    <tr>\n",
              "      <th>1</th>\n",
              "      <td>428904234</td>\n",
              "      <td>Francesco Genova</td>\n",
              "      <td>gengio5</td>\n",
              "      <td>1479</td>\n",
              "      <td>13</td>\n",
              "      <td>25</td>\n",
              "      <td>47</td>\n",
              "      <td>0</td>\n",
              "      <td>Mon Dec 05 09:44:07 +0000 2011</td>\n",
              "      <td>NaN</td>\n",
              "      <td>it</td>\n",
              "      <td>NaN</td>\n",
              "      <td>NaN</td>\n",
              "      <td>NaN</td>\n",
              "      <td>NaN</td>\n",
              "      <td>NaN</td>\n",
              "      <td>http://a0.twimg.com/profile_images/2655673055/...</td>\n",
              "      <td>https://si0.twimg.com/profile_banners/42890423...</td>\n",
              "      <td>1.0</td>\n",
              "      <td>https://si0.twimg.com/profile_background_image...</td>\n",
              "      <td>333333</td>\n",
              "      <td>https://si0.twimg.com/profile_images/265567305...</td>\n",
              "      <td>C0DEED</td>\n",
              "      <td>NaN</td>\n",
              "      <td>DDEEF6</td>\n",
              "      <td>http://a0.twimg.com/profile_background_images/...</td>\n",
              "      <td>CC0033</td>\n",
              "      <td>CC3300</td>\n",
              "      <td>NaN</td>\n",
              "      <td>NaN</td>\n",
              "      <td>NaN</td>\n",
              "      <td>Magno nutella e amatriciana,tifo Roma e canto ...</td>\n",
              "      <td>2015-02-14 10:54:49</td>\n",
              "      <td>E13</td>\n",
              "      <td>1.0</td>\n",
              "    </tr>\n",
              "    <tr>\n",
              "      <th>2</th>\n",
              "      <td>619735156</td>\n",
              "      <td>Teri Albert</td>\n",
              "      <td>terialbertyykp</td>\n",
              "      <td>29</td>\n",
              "      <td>14</td>\n",
              "      <td>284</td>\n",
              "      <td>0</td>\n",
              "      <td>0</td>\n",
              "      <td>Wed Jun 27 06:19:46 +0000 2012</td>\n",
              "      <td>NaN</td>\n",
              "      <td>en</td>\n",
              "      <td>NaN</td>\n",
              "      <td>Houston but should be NEWYORK</td>\n",
              "      <td>1.0</td>\n",
              "      <td>NaN</td>\n",
              "      <td>NaN</td>\n",
              "      <td>http://a0.twimg.com/profile_images/3303656739/...</td>\n",
              "      <td>NaN</td>\n",
              "      <td>1.0</td>\n",
              "      <td>https://si0.twimg.com/images/themes/theme1/bg.png</td>\n",
              "      <td>333333</td>\n",
              "      <td>https://si0.twimg.com/profile_images/330365673...</td>\n",
              "      <td>C0DEED</td>\n",
              "      <td>NaN</td>\n",
              "      <td>DDEEF6</td>\n",
              "      <td>http://a0.twimg.com/images/themes/theme1/bg.png</td>\n",
              "      <td>C0DEED</td>\n",
              "      <td>0084B4</td>\n",
              "      <td>NaN</td>\n",
              "      <td>NaN</td>\n",
              "      <td>NaN</td>\n",
              "      <td>#team MODEL #teamBBM #teamjesus   I AM THE NEW...</td>\n",
              "      <td>2015-02-14 10:40:01</td>\n",
              "      <td>INT</td>\n",
              "      <td>0.0</td>\n",
              "    </tr>\n",
              "    <tr>\n",
              "      <th>3</th>\n",
              "      <td>464790896</td>\n",
              "      <td>Flavia Casanova</td>\n",
              "      <td>Flavia1105</td>\n",
              "      <td>1402</td>\n",
              "      <td>150</td>\n",
              "      <td>179</td>\n",
              "      <td>244</td>\n",
              "      <td>1</td>\n",
              "      <td>Sun Jan 15 16:44:55 +0000 2012</td>\n",
              "      <td>NaN</td>\n",
              "      <td>it</td>\n",
              "      <td>London</td>\n",
              "      <td>NaN</td>\n",
              "      <td>NaN</td>\n",
              "      <td>NaN</td>\n",
              "      <td>NaN</td>\n",
              "      <td>http://a0.twimg.com/profile_images/1761244994/...</td>\n",
              "      <td>NaN</td>\n",
              "      <td>1.0</td>\n",
              "      <td>https://si0.twimg.com/images/themes/theme4/bg.gif</td>\n",
              "      <td>3C3940</td>\n",
              "      <td>https://si0.twimg.com/profile_images/176124499...</td>\n",
              "      <td>5ED4DC</td>\n",
              "      <td>NaN</td>\n",
              "      <td>95E8EC</td>\n",
              "      <td>http://a0.twimg.com/images/themes/theme4/bg.gif</td>\n",
              "      <td>0099B9</td>\n",
              "      <td>0099B9</td>\n",
              "      <td>0.0</td>\n",
              "      <td>NaN</td>\n",
              "      <td>NaN</td>\n",
              "      <td>Sono nata e vivo in provincia di Genova;da pic...</td>\n",
              "      <td>2015-02-14 10:54:49</td>\n",
              "      <td>E13</td>\n",
              "      <td>1.0</td>\n",
              "    </tr>\n",
              "    <tr>\n",
              "      <th>4</th>\n",
              "      <td>383292062</td>\n",
              "      <td>ilPux</td>\n",
              "      <td>MarcoPusceddu1</td>\n",
              "      <td>222</td>\n",
              "      <td>125</td>\n",
              "      <td>300</td>\n",
              "      <td>20</td>\n",
              "      <td>0</td>\n",
              "      <td>Sat Oct 01 16:25:48 +0000 2011</td>\n",
              "      <td>NaN</td>\n",
              "      <td>it</td>\n",
              "      <td>NaN</td>\n",
              "      <td>NaN</td>\n",
              "      <td>NaN</td>\n",
              "      <td>NaN</td>\n",
              "      <td>NaN</td>\n",
              "      <td>http://a0.twimg.com/profile_images/2674480298/...</td>\n",
              "      <td>NaN</td>\n",
              "      <td>1.0</td>\n",
              "      <td>https://si0.twimg.com/images/themes/theme15/bg...</td>\n",
              "      <td>333333</td>\n",
              "      <td>https://si0.twimg.com/profile_images/267448029...</td>\n",
              "      <td>A8C7F7</td>\n",
              "      <td>NaN</td>\n",
              "      <td>C0DFEC</td>\n",
              "      <td>http://a0.twimg.com/images/themes/theme15/bg.png</td>\n",
              "      <td>022330</td>\n",
              "      <td>0084B4</td>\n",
              "      <td>NaN</td>\n",
              "      <td>NaN</td>\n",
              "      <td>NaN</td>\n",
              "      <td>Studente, pallavolista, Scout, divoratore di l...</td>\n",
              "      <td>2015-02-14 10:54:49</td>\n",
              "      <td>E13</td>\n",
              "      <td>1.0</td>\n",
              "    </tr>\n",
              "  </tbody>\n",
              "</table>\n",
              "</div>"
            ],
            "text/plain": [
              "          id               name  ... dataset  isFake\n",
              "0   87654715  giampaolo galenda  ...     E13     1.0\n",
              "1  428904234   Francesco Genova  ...     E13     1.0\n",
              "2  619735156        Teri Albert  ...     INT     0.0\n",
              "3  464790896    Flavia Casanova  ...     E13     1.0\n",
              "4  383292062              ilPux  ...     E13     1.0\n",
              "\n",
              "[5 rows x 35 columns]"
            ]
          },
          "metadata": {
            "tags": []
          },
          "execution_count": 69
        }
      ]
    },
    {
      "cell_type": "code",
      "metadata": {
        "id": "x0B5VKYuC3OW",
        "colab_type": "code",
        "colab": {}
      },
      "source": [
        "Y = df_allUsers.isFake"
      ],
      "execution_count": null,
      "outputs": []
    },
    {
      "cell_type": "code",
      "metadata": {
        "id": "OuiAJqJTC6ls",
        "colab_type": "code",
        "colab": {}
      },
      "source": [
        "df_allUsers.drop([\"isFake\"],axis=1, inplace=True)\n",
        "X = df_allUsers"
      ],
      "execution_count": null,
      "outputs": []
    },
    {
      "cell_type": "code",
      "metadata": {
        "id": "O0CI1zj9C9Ry",
        "colab_type": "code",
        "colab": {}
      },
      "source": [
        "pp.ProfileReport(X)"
      ],
      "execution_count": null,
      "outputs": []
    },
    {
      "cell_type": "code",
      "metadata": {
        "id": "-YR-H_PCDM3J",
        "colab_type": "code",
        "colab": {}
      },
      "source": [
        "Y.reset_index(drop=True, inplace=True)"
      ],
      "execution_count": null,
      "outputs": []
    },
    {
      "cell_type": "code",
      "metadata": {
        "id": "Dnot6auWDOPC",
        "colab_type": "code",
        "colab": {
          "base_uri": "https://localhost:8080/",
          "height": 35
        },
        "outputId": "9cf47beb-5ba7-475a-91da-f66faeb051cc"
      },
      "source": [
        "print(Y.shape)"
      ],
      "execution_count": null,
      "outputs": [
        {
          "output_type": "stream",
          "text": [
            "(2818,)\n"
          ],
          "name": "stdout"
        }
      ]
    },
    {
      "cell_type": "code",
      "metadata": {
        "id": "i_mdJc62DTGq",
        "colab_type": "code",
        "colab": {
          "base_uri": "https://localhost:8080/",
          "height": 556
        },
        "outputId": "b9cca895-90b6-47f3-a3e6-29da36d58eba"
      },
      "source": [
        "X.head()"
      ],
      "execution_count": null,
      "outputs": [
        {
          "output_type": "execute_result",
          "data": {
            "text/html": [
              "<div>\n",
              "<style scoped>\n",
              "    .dataframe tbody tr th:only-of-type {\n",
              "        vertical-align: middle;\n",
              "    }\n",
              "\n",
              "    .dataframe tbody tr th {\n",
              "        vertical-align: top;\n",
              "    }\n",
              "\n",
              "    .dataframe thead th {\n",
              "        text-align: right;\n",
              "    }\n",
              "</style>\n",
              "<table border=\"1\" class=\"dataframe\">\n",
              "  <thead>\n",
              "    <tr style=\"text-align: right;\">\n",
              "      <th></th>\n",
              "      <th>id</th>\n",
              "      <th>name</th>\n",
              "      <th>screen_name</th>\n",
              "      <th>statuses_count</th>\n",
              "      <th>followers_count</th>\n",
              "      <th>friends_count</th>\n",
              "      <th>favourites_count</th>\n",
              "      <th>listed_count</th>\n",
              "      <th>created_at</th>\n",
              "      <th>url</th>\n",
              "      <th>lang</th>\n",
              "      <th>time_zone</th>\n",
              "      <th>location</th>\n",
              "      <th>default_profile</th>\n",
              "      <th>default_profile_image</th>\n",
              "      <th>geo_enabled</th>\n",
              "      <th>profile_image_url</th>\n",
              "      <th>profile_banner_url</th>\n",
              "      <th>profile_use_background_image</th>\n",
              "      <th>profile_background_image_url_https</th>\n",
              "      <th>profile_text_color</th>\n",
              "      <th>profile_image_url_https</th>\n",
              "      <th>profile_sidebar_border_color</th>\n",
              "      <th>profile_background_tile</th>\n",
              "      <th>profile_sidebar_fill_color</th>\n",
              "      <th>profile_background_image_url</th>\n",
              "      <th>profile_background_color</th>\n",
              "      <th>profile_link_color</th>\n",
              "      <th>utc_offset</th>\n",
              "      <th>protected</th>\n",
              "      <th>verified</th>\n",
              "      <th>description</th>\n",
              "      <th>updated</th>\n",
              "      <th>dataset</th>\n",
              "    </tr>\n",
              "  </thead>\n",
              "  <tbody>\n",
              "    <tr>\n",
              "      <th>0</th>\n",
              "      <td>87654715</td>\n",
              "      <td>giampaolo galenda</td>\n",
              "      <td>p1qu3</td>\n",
              "      <td>299</td>\n",
              "      <td>29</td>\n",
              "      <td>28</td>\n",
              "      <td>3</td>\n",
              "      <td>0</td>\n",
              "      <td>Thu Nov 05 09:59:29 +0000 2009</td>\n",
              "      <td>http://totallyunnecessaryproductions.it</td>\n",
              "      <td>en</td>\n",
              "      <td>Rome</td>\n",
              "      <td>creative director</td>\n",
              "      <td>NaN</td>\n",
              "      <td>NaN</td>\n",
              "      <td>1.0</td>\n",
              "      <td>http://a0.twimg.com/profile_images/1901157677/...</td>\n",
              "      <td>https://si0.twimg.com/profile_banners/87654715...</td>\n",
              "      <td>1.0</td>\n",
              "      <td>https://si0.twimg.com/images/themes/theme5/bg.gif</td>\n",
              "      <td>3E4415</td>\n",
              "      <td>https://si0.twimg.com/profile_images/190115767...</td>\n",
              "      <td>829D5E</td>\n",
              "      <td>NaN</td>\n",
              "      <td>99CC33</td>\n",
              "      <td>http://a0.twimg.com/images/themes/theme5/bg.gif</td>\n",
              "      <td>352726</td>\n",
              "      <td>D02B55</td>\n",
              "      <td>3600.0</td>\n",
              "      <td>NaN</td>\n",
              "      <td>NaN</td>\n",
              "      <td>Creativity is allowing yourself to make mistak...</td>\n",
              "      <td>2015-02-14 10:54:49</td>\n",
              "      <td>E13</td>\n",
              "    </tr>\n",
              "    <tr>\n",
              "      <th>1</th>\n",
              "      <td>428904234</td>\n",
              "      <td>Francesco Genova</td>\n",
              "      <td>gengio5</td>\n",
              "      <td>1479</td>\n",
              "      <td>13</td>\n",
              "      <td>25</td>\n",
              "      <td>47</td>\n",
              "      <td>0</td>\n",
              "      <td>Mon Dec 05 09:44:07 +0000 2011</td>\n",
              "      <td>NaN</td>\n",
              "      <td>it</td>\n",
              "      <td>NaN</td>\n",
              "      <td>NaN</td>\n",
              "      <td>NaN</td>\n",
              "      <td>NaN</td>\n",
              "      <td>NaN</td>\n",
              "      <td>http://a0.twimg.com/profile_images/2655673055/...</td>\n",
              "      <td>https://si0.twimg.com/profile_banners/42890423...</td>\n",
              "      <td>1.0</td>\n",
              "      <td>https://si0.twimg.com/profile_background_image...</td>\n",
              "      <td>333333</td>\n",
              "      <td>https://si0.twimg.com/profile_images/265567305...</td>\n",
              "      <td>C0DEED</td>\n",
              "      <td>NaN</td>\n",
              "      <td>DDEEF6</td>\n",
              "      <td>http://a0.twimg.com/profile_background_images/...</td>\n",
              "      <td>CC0033</td>\n",
              "      <td>CC3300</td>\n",
              "      <td>NaN</td>\n",
              "      <td>NaN</td>\n",
              "      <td>NaN</td>\n",
              "      <td>Magno nutella e amatriciana,tifo Roma e canto ...</td>\n",
              "      <td>2015-02-14 10:54:49</td>\n",
              "      <td>E13</td>\n",
              "    </tr>\n",
              "    <tr>\n",
              "      <th>2</th>\n",
              "      <td>619735156</td>\n",
              "      <td>Teri Albert</td>\n",
              "      <td>terialbertyykp</td>\n",
              "      <td>29</td>\n",
              "      <td>14</td>\n",
              "      <td>284</td>\n",
              "      <td>0</td>\n",
              "      <td>0</td>\n",
              "      <td>Wed Jun 27 06:19:46 +0000 2012</td>\n",
              "      <td>NaN</td>\n",
              "      <td>en</td>\n",
              "      <td>NaN</td>\n",
              "      <td>Houston but should be NEWYORK</td>\n",
              "      <td>1.0</td>\n",
              "      <td>NaN</td>\n",
              "      <td>NaN</td>\n",
              "      <td>http://a0.twimg.com/profile_images/3303656739/...</td>\n",
              "      <td>NaN</td>\n",
              "      <td>1.0</td>\n",
              "      <td>https://si0.twimg.com/images/themes/theme1/bg.png</td>\n",
              "      <td>333333</td>\n",
              "      <td>https://si0.twimg.com/profile_images/330365673...</td>\n",
              "      <td>C0DEED</td>\n",
              "      <td>NaN</td>\n",
              "      <td>DDEEF6</td>\n",
              "      <td>http://a0.twimg.com/images/themes/theme1/bg.png</td>\n",
              "      <td>C0DEED</td>\n",
              "      <td>0084B4</td>\n",
              "      <td>NaN</td>\n",
              "      <td>NaN</td>\n",
              "      <td>NaN</td>\n",
              "      <td>#team MODEL #teamBBM #teamjesus   I AM THE NEW...</td>\n",
              "      <td>2015-02-14 10:40:01</td>\n",
              "      <td>INT</td>\n",
              "    </tr>\n",
              "    <tr>\n",
              "      <th>3</th>\n",
              "      <td>464790896</td>\n",
              "      <td>Flavia Casanova</td>\n",
              "      <td>Flavia1105</td>\n",
              "      <td>1402</td>\n",
              "      <td>150</td>\n",
              "      <td>179</td>\n",
              "      <td>244</td>\n",
              "      <td>1</td>\n",
              "      <td>Sun Jan 15 16:44:55 +0000 2012</td>\n",
              "      <td>NaN</td>\n",
              "      <td>it</td>\n",
              "      <td>London</td>\n",
              "      <td>NaN</td>\n",
              "      <td>NaN</td>\n",
              "      <td>NaN</td>\n",
              "      <td>NaN</td>\n",
              "      <td>http://a0.twimg.com/profile_images/1761244994/...</td>\n",
              "      <td>NaN</td>\n",
              "      <td>1.0</td>\n",
              "      <td>https://si0.twimg.com/images/themes/theme4/bg.gif</td>\n",
              "      <td>3C3940</td>\n",
              "      <td>https://si0.twimg.com/profile_images/176124499...</td>\n",
              "      <td>5ED4DC</td>\n",
              "      <td>NaN</td>\n",
              "      <td>95E8EC</td>\n",
              "      <td>http://a0.twimg.com/images/themes/theme4/bg.gif</td>\n",
              "      <td>0099B9</td>\n",
              "      <td>0099B9</td>\n",
              "      <td>0.0</td>\n",
              "      <td>NaN</td>\n",
              "      <td>NaN</td>\n",
              "      <td>Sono nata e vivo in provincia di Genova;da pic...</td>\n",
              "      <td>2015-02-14 10:54:49</td>\n",
              "      <td>E13</td>\n",
              "    </tr>\n",
              "    <tr>\n",
              "      <th>4</th>\n",
              "      <td>383292062</td>\n",
              "      <td>ilPux</td>\n",
              "      <td>MarcoPusceddu1</td>\n",
              "      <td>222</td>\n",
              "      <td>125</td>\n",
              "      <td>300</td>\n",
              "      <td>20</td>\n",
              "      <td>0</td>\n",
              "      <td>Sat Oct 01 16:25:48 +0000 2011</td>\n",
              "      <td>NaN</td>\n",
              "      <td>it</td>\n",
              "      <td>NaN</td>\n",
              "      <td>NaN</td>\n",
              "      <td>NaN</td>\n",
              "      <td>NaN</td>\n",
              "      <td>NaN</td>\n",
              "      <td>http://a0.twimg.com/profile_images/2674480298/...</td>\n",
              "      <td>NaN</td>\n",
              "      <td>1.0</td>\n",
              "      <td>https://si0.twimg.com/images/themes/theme15/bg...</td>\n",
              "      <td>333333</td>\n",
              "      <td>https://si0.twimg.com/profile_images/267448029...</td>\n",
              "      <td>A8C7F7</td>\n",
              "      <td>NaN</td>\n",
              "      <td>C0DFEC</td>\n",
              "      <td>http://a0.twimg.com/images/themes/theme15/bg.png</td>\n",
              "      <td>022330</td>\n",
              "      <td>0084B4</td>\n",
              "      <td>NaN</td>\n",
              "      <td>NaN</td>\n",
              "      <td>NaN</td>\n",
              "      <td>Studente, pallavolista, Scout, divoratore di l...</td>\n",
              "      <td>2015-02-14 10:54:49</td>\n",
              "      <td>E13</td>\n",
              "    </tr>\n",
              "  </tbody>\n",
              "</table>\n",
              "</div>"
            ],
            "text/plain": [
              "          id               name  ...              updated  dataset\n",
              "0   87654715  giampaolo galenda  ...  2015-02-14 10:54:49      E13\n",
              "1  428904234   Francesco Genova  ...  2015-02-14 10:54:49      E13\n",
              "2  619735156        Teri Albert  ...  2015-02-14 10:40:01      INT\n",
              "3  464790896    Flavia Casanova  ...  2015-02-14 10:54:49      E13\n",
              "4  383292062              ilPux  ...  2015-02-14 10:54:49      E13\n",
              "\n",
              "[5 rows x 34 columns]"
            ]
          },
          "metadata": {
            "tags": []
          },
          "execution_count": 76
        }
      ]
    },
    {
      "cell_type": "code",
      "metadata": {
        "id": "c1Ls3oltDaDO",
        "colab_type": "code",
        "colab": {}
      },
      "source": [
        "lang_list = list(enumerate(np.unique(X[\"lang\"])))\n",
        "lang_dict = {name : i for i, name in lang_list}\n",
        "X.loc[:, \"lang_num\"] = X[\"lang\"].map(lambda x: lang_dict[x]).astype(int)\n",
        "\n",
        "X.drop([\"name\"], axis=1, inplace=True)"
      ],
      "execution_count": null,
      "outputs": []
    },
    {
      "cell_type": "code",
      "metadata": {
        "id": "3jFWA6ByDwN1",
        "colab_type": "code",
        "colab": {}
      },
      "source": [
        "X = X[[\n",
        "    \"statuses_count\",\n",
        "    \"followers_count\",\n",
        "    \"friends_count\",\n",
        "    \"favourites_count\",\n",
        "    \"lang_num\",\n",
        "    \"listed_count\",\n",
        "    \"geo_enabled\",\n",
        "    \"utc_offset\",\n",
        "    \"profile_use_background_image\"\n",
        "                        ]]"
      ],
      "execution_count": null,
      "outputs": []
    },
    {
      "cell_type": "code",
      "metadata": {
        "id": "3Kte4g4PH0xQ",
        "colab_type": "code",
        "colab": {}
      },
      "source": [
        "pp.ProfileReport(X)"
      ],
      "execution_count": null,
      "outputs": []
    },
    {
      "cell_type": "code",
      "metadata": {
        "id": "iMqbDl35H5mE",
        "colab_type": "code",
        "colab": {}
      },
      "source": [
        "X = X.replace(np.nan, 0)"
      ],
      "execution_count": null,
      "outputs": []
    },
    {
      "cell_type": "code",
      "metadata": {
        "id": "a07I1uMdH8Hd",
        "colab_type": "code",
        "colab": {}
      },
      "source": [
        "pp.ProfileReport(X)"
      ],
      "execution_count": null,
      "outputs": []
    },
    {
      "cell_type": "code",
      "metadata": {
        "id": "GC8EiDueH_6o",
        "colab_type": "code",
        "colab": {}
      },
      "source": [
        "train_X, val_X, train_y, val_y = train_test_split(X, Y, train_size=0.8, test_size=0.2, random_state=0)"
      ],
      "execution_count": null,
      "outputs": []
    },
    {
      "cell_type": "code",
      "metadata": {
        "id": "UgKIcUGQICvW",
        "colab_type": "code",
        "colab": {
          "base_uri": "https://localhost:8080/",
          "height": 90
        },
        "outputId": "be08f2a3-32a2-4b51-d150-99e51f8033f8"
      },
      "source": [
        "print(train_X.shape)\n",
        "print(val_X.shape)\n",
        "print(train_y.shape)\n",
        "print(val_y.shape)"
      ],
      "execution_count": null,
      "outputs": [
        {
          "output_type": "stream",
          "text": [
            "(2254, 9)\n",
            "(564, 9)\n",
            "(2254,)\n",
            "(564,)\n"
          ],
          "name": "stdout"
        }
      ]
    },
    {
      "cell_type": "code",
      "metadata": {
        "id": "NtQdYMf4IGt3",
        "colab_type": "code",
        "colab": {}
      },
      "source": [
        "from numpy.random import seed\n",
        "seed(1)"
      ],
      "execution_count": null,
      "outputs": []
    },
    {
      "cell_type": "code",
      "metadata": {
        "id": "9SqKWtreIH8F",
        "colab_type": "code",
        "colab": {}
      },
      "source": [
        "import keras\n",
        "from keras import regularizers\n",
        "from keras.models import Sequential\n",
        "from keras.layers import Dense, Dropout, Activation\n",
        "from keras import optimizers"
      ],
      "execution_count": null,
      "outputs": []
    },
    {
      "cell_type": "code",
      "metadata": {
        "id": "rNmQSp9hIKh6",
        "colab_type": "code",
        "colab": {
          "base_uri": "https://localhost:8080/",
          "height": 311
        },
        "outputId": "47861111-af04-4606-f761-ac6667f42a5c"
      },
      "source": [
        "model = Sequential()\n",
        "model.add(Dense(32, activation='relu', input_dim=9))\n",
        "model.add(Dense(64, input_dim=32,\n",
        "                kernel_regularizer=regularizers.l2(0.0076),\n",
        "                activity_regularizer=regularizers.l1(0.0023), activation='relu'))\n",
        "model.add(Dense(1, activation='sigmoid'))\n",
        "model.compile(optimizer='rmsprop',\n",
        "              loss='binary_crossentropy',\n",
        "              metrics=['accuracy'])\n",
        "\n",
        "history = model.fit(train_X, train_y, epochs=8)\n",
        "\n",
        "# Plot training & validation accuracy values\n",
        "plt.plot(history.history['accuracy'])\n",
        "plt.title('Model accuracy')\n",
        "plt.ylabel('Accuracy')\n",
        "plt.xlabel('Epoch')\n",
        "plt.legend(['Train', 'Test'], loc='upper left')\n",
        "plt.show()\n",
        "\n",
        "# Plot training & validation loss values\n",
        "plt.plot(history.history['loss'])\n",
        "plt.title('Model loss')\n",
        "plt.ylabel('Loss')\n",
        "plt.xlabel('Epoch')\n",
        "plt.legend(['Train', 'Test'], loc='upper left')\n",
        "plt.show()"
      ],
      "execution_count": null,
      "outputs": [
        {
          "output_type": "stream",
          "text": [
            "Epoch 1/8\n",
            "2254/2254 [==============================] - 0s 81us/step - loss: 259.7344 - accuracy: 0.8017\n",
            "Epoch 2/8\n",
            "2254/2254 [==============================] - 0s 39us/step - loss: 27.7914 - accuracy: 0.7533\n",
            "Epoch 3/8\n",
            "2254/2254 [==============================] - 0s 39us/step - loss: 9.7162 - accuracy: 0.9445\n",
            "Epoch 4/8\n",
            "2254/2254 [==============================] - 0s 37us/step - loss: 3.5624 - accuracy: 0.7746\n",
            "Epoch 5/8\n",
            "2254/2254 [==============================] - 0s 37us/step - loss: 2.0905 - accuracy: 0.9814\n",
            "Epoch 6/8\n",
            "2254/2254 [==============================] - 0s 36us/step - loss: 1.3352 - accuracy: 0.9760\n",
            "Epoch 7/8\n",
            "2254/2254 [==============================] - 0s 38us/step - loss: 0.7147 - accuracy: 0.9823\n",
            "Epoch 8/8\n",
            "2254/2254 [==============================] - 0s 37us/step - loss: 0.7239 - accuracy: 0.9521\n"
          ],
          "name": "stdout"
        }
      ]
    },
    {
      "cell_type": "code",
      "metadata": {
        "id": "WwAUYIIvK0IA",
        "colab_type": "code",
        "colab": {
          "base_uri": "https://localhost:8080/",
          "height": 54
        },
        "outputId": "e368e932-4c0e-482b-f1fc-ab3d3dab45b0"
      },
      "source": [
        "score, acc = model.evaluate(val_X, val_y)\n",
        "print(acc*100)"
      ],
      "execution_count": null,
      "outputs": [
        {
          "output_type": "stream",
          "text": [
            "564/564 [==============================] - 0s 57us/step\n",
            "98.93617033958435\n"
          ],
          "name": "stdout"
        }
      ]
    }
  ]
}